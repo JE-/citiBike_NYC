{
 "cells": [
  {
   "cell_type": "code",
   "execution_count": null,
   "metadata": {
    "collapsed": false
   },
   "outputs": [],
   "source": [
    "import os\n",
    "import numpy as np\n",
    "import pandas as pd\n",
    "import matplotlib.pyplot as plt\n",
    "import re\n",
    "import seaborn as sns\n",
    "%matplotlib inline\n",
    "#plt.style.use('ggplot')\n",
    "plt.rcParams['figure.figsize'] = (8, 4)\n",
    "os.chdir('/Users/Jonathan/citiBike_NYC')"
   ]
  },
  {
   "cell_type": "code",
   "execution_count": null,
   "metadata": {
    "collapsed": false
   },
   "outputs": [],
   "source": [
    "# # Read data from citibikenyc website (https://www.citibikenyc.com/system-data)\n",
    "\n",
    "# from zipfile import ZipFile\n",
    "# from StringIO import StringIO\n",
    "# import urllib2\n",
    "\n",
    "# # Download all files for 2015\n",
    "# months = [(\"%02d\" % i) for i in range(1,12)]\n",
    "# dfs = []\n",
    "# for i in months:\n",
    "#     url = \"https://s3.amazonaws.com/tripdata/2015\" +i + \"-citibike-tripdata.zip\"\n",
    "#     print url    \n",
    "#     r = urllib2.urlopen(url).read()\n",
    "#     file = ZipFile(StringIO(r))\n",
    "#     monthlyTripData = file.open(\"\".join([\"2015\",i,\"-citibike-tripdata.csv\"]))\n",
    "#     dfs.append(pd.read_csv(monthlyTripData))"
   ]
  },
  {
   "cell_type": "code",
   "execution_count": null,
   "metadata": {
    "collapsed": true
   },
   "outputs": [],
   "source": [
    "# # Save all DFs\n",
    "# import pickle\n",
    "\n",
    "# with open('objs.pickle', 'w') as f:\n",
    "#     pickle.dump([dfs], f)"
   ]
  },
  {
   "cell_type": "code",
   "execution_count": null,
   "metadata": {
    "collapsed": false
   },
   "outputs": [],
   "source": [
    "# # Load all DFs\n",
    "# import pickle\n",
    "\n",
    "# with open('objs.pickle') as f:\n",
    "#     dfs = pickle.load(f)"
   ]
  },
  {
   "cell_type": "code",
   "execution_count": null,
   "metadata": {
    "collapsed": false
   },
   "outputs": [],
   "source": [
    "# # Read data for all of 2015\n",
    "# months = [(\"%02d\" % i) for i in range(1,12)]\n",
    "# dfs = []\n",
    "# for i in months:\n",
    "#     file = \"2015\" +i +\"-citibike-tripdata.csv\"\n",
    "#     print file    \n",
    "#     monthlyTripData = pd.read_csv(\"\".join(['data/',file]))\n",
    "#     dfs.append(monthlyTripData)"
   ]
  },
  {
   "cell_type": "code",
   "execution_count": null,
   "metadata": {
    "collapsed": false
   },
   "outputs": [],
   "source": [
    "# Read data only for November 2015\n",
    "tripData = pd.read_csv('data/201511-citibike-tripdata.csv')\n",
    "tripData.head()"
   ]
  },
  {
   "cell_type": "code",
   "execution_count": null,
   "metadata": {
    "collapsed": false,
    "scrolled": true
   },
   "outputs": [],
   "source": [
    "tripData.dtypes"
   ]
  },
  {
   "cell_type": "code",
   "execution_count": null,
   "metadata": {
    "collapsed": false
   },
   "outputs": [],
   "source": [
    "tripData.shape"
   ]
  },
  {
   "cell_type": "code",
   "execution_count": null,
   "metadata": {
    "collapsed": false
   },
   "outputs": [],
   "source": [
    "# Parse dates\n",
    "from datetime import datetime\n",
    "\n",
    "a = tripData.starttime[0]\n",
    "print a\n",
    "datetime.now()\n",
    "#datetime.strptime(a,'%m/%d/%Y')\n",
    "#datetime.datetime(2010,1,1,0,0)\n",
    "b = datetime.strptime(a,\"%m/%d/%Y %H:%M:%S\")\n",
    "b"
   ]
  },
  {
   "cell_type": "code",
   "execution_count": null,
   "metadata": {
    "collapsed": false
   },
   "outputs": [],
   "source": [
    "# dates = [datetime.strptime(x,\"%m/%d/%Y %H:%M:%S\") for x in tripData.starttime]\n",
    "# dates[:10]\n",
    "\n",
    "# can also use:\n",
    "# from dateutil.parser import parse\n",
    "# [parse(x) for x in data.starttime]"
   ]
  },
  {
   "cell_type": "code",
   "execution_count": null,
   "metadata": {
    "collapsed": false
   },
   "outputs": [],
   "source": [
    "# from dateutil.parser import parse\n",
    "# new = pd.Series(np.random.randn(100), index = pd.date_range(parse(data.starttime[0]),periods = 100))\n",
    "# new.plot()"
   ]
  },
  {
   "cell_type": "code",
   "execution_count": null,
   "metadata": {
    "collapsed": false
   },
   "outputs": [],
   "source": [
    "# How many bikes are there?\n",
    "len((tripData.bikeid.unique()))"
   ]
  },
  {
   "cell_type": "code",
   "execution_count": null,
   "metadata": {
    "collapsed": false
   },
   "outputs": [],
   "source": [
    "# Proportion of male / female (0 is unknown)\n",
    "(tripData.gender.value_counts() / tripData.gender.shape[0] * 100).round(2)"
   ]
  },
  {
   "cell_type": "code",
   "execution_count": null,
   "metadata": {
    "collapsed": false
   },
   "outputs": [],
   "source": [
    "# Proportion of Subscribers\n",
    "(tripData.usertype.value_counts() / tripData.usertype.shape[0] * 100).round(2)"
   ]
  },
  {
   "cell_type": "code",
   "execution_count": null,
   "metadata": {
    "collapsed": false
   },
   "outputs": [],
   "source": [
    "# tripData['birth year'].plot(kind='hist')\n",
    "tripData[tripData['birth year'] > 1930]['birth year'].plot(kind = 'hist')"
   ]
  },
  {
   "cell_type": "code",
   "execution_count": null,
   "metadata": {
    "collapsed": false
   },
   "outputs": [],
   "source": [
    "# Enter trip duration:\n",
    "trip_duration_in_minutes = 10\n",
    "\n",
    "trip_duration = trip_duration_in_minutes * 60.0\n",
    "x = tripData[tripData.tripduration > trip_duration].shape[0] / float(tripData.shape[0]) * 100\n",
    "x = round(x,2)\n",
    "print str(x) +\" percent of trips were longer than \" + str(trip_duration_in_minutes) +\" minutes\""
   ]
  },
  {
   "cell_type": "code",
   "execution_count": null,
   "metadata": {
    "collapsed": true
   },
   "outputs": [],
   "source": [
    "#------------------------------------------------------------------------------------------------#"
   ]
  },
  {
   "cell_type": "code",
   "execution_count": null,
   "metadata": {
    "collapsed": false
   },
   "outputs": [],
   "source": [
    "# Get only the first 100 rows\n",
    "data = tripData.ix[:99,:].copy()\n",
    "data"
   ]
  },
  {
   "cell_type": "code",
   "execution_count": null,
   "metadata": {
    "collapsed": false
   },
   "outputs": [],
   "source": [
    "# number of trips by subscriber type & gender\n",
    "sns.countplot(x = 'usertype', hue = 'gender', data=tripData)"
   ]
  },
  {
   "cell_type": "code",
   "execution_count": null,
   "metadata": {
    "collapsed": false
   },
   "outputs": [],
   "source": [
    "# trip duration by subscriber type & gender\n",
    "sns.stripplot(x=\"usertype\", y=\"tripduration\", data=tripData, hue='gender', jitter=0.05);"
   ]
  },
  {
   "cell_type": "code",
   "execution_count": null,
   "metadata": {
    "collapsed": false
   },
   "outputs": [],
   "source": [
    "data.groupby('gender').tripduration.sum()"
   ]
  },
  {
   "cell_type": "code",
   "execution_count": null,
   "metadata": {
    "collapsed": false
   },
   "outputs": [],
   "source": [
    "# url = 'https://www.citibikenyc.com/stations/json'\n",
    "# all_stations = pd.read_json(url)['stationBeanList']\n",
    "\n",
    "# # all_stations = all_stations.apply(lambda x: x['stationName'])\n",
    "\n",
    "# # # decode html\n",
    "# # html_parser = HTMLParser.HTMLParser()\n",
    "# # my_unique_stations_decoded = my_unique_stations.apply(html_parser.unescape)\n",
    "\n",
    "# # # exclude visited stations\n",
    "# # not_visited_station = lambda x: x not in my_unique_stations_decoded.values\n",
    "# # not_visited_stations = all_stations.apply(not_visited_station)"
   ]
  },
  {
   "cell_type": "code",
   "execution_count": null,
   "metadata": {
    "collapsed": false
   },
   "outputs": [],
   "source": [
    "import urllib2\n",
    "url = 'https://www.citibikenyc.com/stations/json'\n",
    "request = urllib2.Request(url)\n",
    "response = urllib2.urlopen(request)\n",
    "jsonData = response.read()"
   ]
  },
  {
   "cell_type": "code",
   "execution_count": null,
   "metadata": {
    "collapsed": false
   },
   "outputs": [],
   "source": [
    "# Anoter way of reading the data\n",
    "jsonData = pd.read_json(url)\n",
    "jsonData.ix[:,1][0]['id']"
   ]
  },
  {
   "cell_type": "code",
   "execution_count": null,
   "metadata": {
    "collapsed": false
   },
   "outputs": [],
   "source": [
    "import urllib2\n",
    "from urllib2 import Request, urlopen\n",
    "import json\n",
    "from pandas.io.json import json_normalize\n",
    "\n",
    "url = 'https://www.citibikenyc.com/stations/json'\n",
    "all_stations = pd.read_json(url)['stationBeanList']\n",
    "x = urllib2.urlopen(url)"
   ]
  },
  {
   "cell_type": "code",
   "execution_count": null,
   "metadata": {
    "collapsed": false
   },
   "outputs": [],
   "source": [
    "# Read Json using the requests package\n",
    "import requests\n",
    "r = requests.get(url)\n",
    "r.text\n",
    "r.json()\n",
    "r.json().keys()\n",
    "r.json()['executionTime']\n",
    "r.json()['stationBeanList']\n",
    "len(r.json()['stationBeanList']) # 507 docks\n",
    "r.json()['stationBeanList'] [0] # First key/station\n",
    "from pandas.io.json import json_normalize\n",
    "df = json_normalize(r.json()['stationBeanList'])\n",
    "\n",
    "print r.json()['executionTime']\n",
    "f, (ax1, ax2) = plt.subplots(1, 2)\n",
    "ax1.hist(df['availableBikes'])\n",
    "ax1.set_title('availableBikes')\n",
    "ax2.hist(df['totalDocks'])\n",
    "ax2.set_title('totalDocks')"
   ]
  },
  {
   "cell_type": "code",
   "execution_count": null,
   "metadata": {
    "collapsed": false
   },
   "outputs": [],
   "source": [
    "df.shape\n",
    "df.columns\n",
    "df.statusValue.unique()  # array([u'In Service', u'Not In Service'], dtype=object)\n",
    "len(df[df.statusValue=='Not In Service']) / float(len(df[df.statusValue=='In Service']))"
   ]
  },
  {
   "cell_type": "code",
   "execution_count": null,
   "metadata": {
    "collapsed": false
   },
   "outputs": [],
   "source": [
    "# 5. Create SQLite database.\n",
    "# 5a. create data table to store data:"
   ]
  },
  {
   "cell_type": "code",
   "execution_count": null,
   "metadata": {
    "collapsed": false
   },
   "outputs": [],
   "source": [
    "\n",
    "\n",
    "import numpy as np\n",
    "import seaborn as sns\n",
    "import matplotlib.pyplot as plt\n",
    "sns.set(style=\"white\", context=\"talk\")\n",
    "rs = np.random.RandomState(7)\n",
    "\n",
    "\n",
    "# Set up the matplotlib figure\n",
    "f, (ax1, ax2, ax3) = plt.subplots(3, 1, figsize=(8, 6), sharex=True)\n",
    "\n",
    "# Generate some sequential data\n",
    "x = np.array(list(\"ABCDEFGHI\"))\n",
    "y1 = np.arange(1, 10)\n",
    "sns.barplot(x, y1, palette=\"BuGn_d\", ax=ax1)\n",
    "ax1.set_ylabel(\"Sequential\")\n",
    "\n",
    "# Center the data to make it diverging\n",
    "y2 = y1 - 5\n",
    "sns.barplot(x, y2, palette=\"RdBu_r\", ax=ax2)\n",
    "ax2.set_ylabel(\"Diverging\")\n",
    "\n",
    "# Randomly reorder the data to make it qualitative\n",
    "y3 = rs.choice(y1, 9, replace=False)\n",
    "sns.barplot(x, y3, palette=\"Set3\", ax=ax3)\n",
    "ax3.set_ylabel(\"Qualitative\")\n",
    "\n",
    "# Finalize the plot\n",
    "sns.despine(bottom=True)\n",
    "plt.setp(f.axes, yticks=[])\n",
    "plt.tight_layout(h_pad=3)"
   ]
  },
  {
   "cell_type": "code",
   "execution_count": 15,
   "metadata": {
    "collapsed": false
   },
   "outputs": [
    {
     "data": {
      "image/png": "[encoded data removed]",
      "text/plain": [
       "<matplotlib.figure.Figure at 0x11ba134d0>"
      ]
     },
     "metadata": {},
     "output_type": "display_data"
    }
   ],
   "source": [
    "import os\n",
    "import numpy as np\n",
    "import pandas as pd\n",
    "import matplotlib.pyplot as plt\n",
    "import re\n",
    "import seaborn as sns\n",
    "from datetime import datetime\n",
    "import cPickle\n",
    "%matplotlib inline\n",
    "plt.style.use('fivethirtyeight')\n",
    "sns.set_context(\"poster\",font_scale = 0.9)\n",
    "plt.rcParams['figure.figsize'] = (10, 5)\n",
    "sns.barplot(['Mean Model','Linear Regression','Random Forest'],[6,5,4])\n",
    "sns.axlabel('','MSE')"
   ]
  },
  {
   "cell_type": "code",
   "execution_count": null,
   "metadata": {
    "collapsed": true
   },
   "outputs": [],
   "source": []
  }
 ],
 "metadata": {
  "kernelspec": {
   "display_name": "Python 2",
   "language": "python",
   "name": "python2"
  },
  "language_info": {
   "codemirror_mode": {
    "name": "ipython",
    "version": 2
   },
   "file_extension": ".py",
   "mimetype": "text/x-python",
   "name": "python",
   "nbconvert_exporter": "python",
   "pygments_lexer": "ipython2",
   "version": "2.7.11"
  }
 },
 "nbformat": 4,
 "nbformat_minor": 0
}
