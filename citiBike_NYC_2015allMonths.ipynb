{
 "cells": [
  {
   "cell_type": "code",
   "execution_count": 1,
   "metadata": {
    "collapsed": false
   },
   "outputs": [
    {
     "name": "stderr",
     "output_type": "stream",
     "text": [
      "/Users/Jonathan/anaconda2/lib/python2.7/site-packages/matplotlib/__init__.py:872: UserWarning: axes.color_cycle is deprecated and replaced with axes.prop_cycle; please use the latter.\n",
      "  warnings.warn(self.msg_depr % (key, alt_key))\n"
     ]
    }
   ],
   "source": [
    "import os\n",
    "import numpy as np\n",
    "import pandas as pd\n",
    "import matplotlib.pyplot as plt\n",
    "import re\n",
    "import seaborn as sns\n",
    "%matplotlib inline\n",
    "#plt.style.use('ggplot')\n",
    "#plt.rcParams['figure.figsize'] = (12, 6)\n",
    "os.chdir('/Users/Jonathan/citiBike_NYC')\n",
    "\n",
    "sns.set(rc={\"figure.figsize\": (6, 6)})\n",
    "import warnings; warnings.filterwarnings('ignore')"
   ]
  },
  {
   "cell_type": "code",
   "execution_count": 2,
   "metadata": {
    "collapsed": false
   },
   "outputs": [],
   "source": [
    "# # Read data from citibikenyc website (https://www.citibikenyc.com/system-data)\n",
    "\n",
    "# from zipfile import ZipFile\n",
    "# from StringIO import StringIO\n",
    "# import urllib2\n",
    "\n",
    "# # Download all files for 2015\n",
    "# months = [(\"%02d\" % i) for i in range(1,12)]\n",
    "# dfs = []\n",
    "# for i in months:\n",
    "#     url = \"https://s3.amazonaws.com/tripdata/2015\" +i + \"-citibike-tripdata.zip\"\n",
    "#     print url    \n",
    "#     r = urllib2.urlopen(url).read()\n",
    "#     file = ZipFile(StringIO(r))\n",
    "#     monthlyTripData = file.open(\"\".join([\"2015\",i,\"-citibike-tripdata.csv\"]))\n",
    "#     dfs.append(pd.read_csv(monthlyTripData))"
   ]
  },
  {
   "cell_type": "code",
   "execution_count": 3,
   "metadata": {
    "collapsed": true
   },
   "outputs": [],
   "source": [
    "# # Save all DFs\n",
    "# import pickle\n",
    "\n",
    "# with open('objs.pickle', 'w') as f:\n",
    "#     pickle.dump([dfs], f)"
   ]
  },
  {
   "cell_type": "code",
   "execution_count": 4,
   "metadata": {
    "collapsed": false
   },
   "outputs": [],
   "source": [
    "# # Load all DFs\n",
    "# import pickle\n",
    "\n",
    "# with open('objs.pickle') as f:\n",
    "#     dfs = pickle.load(f)"
   ]
  },
  {
   "cell_type": "code",
   "execution_count": 5,
   "metadata": {
    "collapsed": false
   },
   "outputs": [
    {
     "name": "stdout",
     "output_type": "stream",
     "text": [
      "2014-01 - Citi Bike trip data.csv\n",
      "2014-02 - Citi Bike trip data.csv\n",
      "2014-03 - Citi Bike trip data.csv\n",
      "2014-04 - Citi Bike trip data.csv\n",
      "2014-05 - Citi Bike trip data.csv\n",
      "2014-06 - Citi Bike trip data.csv\n",
      "2014-07 - Citi Bike trip data.csv\n",
      "2014-08 - Citi Bike trip data.csv\n",
      "201409-citibike-tripdata.csv\n",
      "201410-citibike-tripdata.csv\n",
      "201411-citibike-tripdata.csv\n",
      "201412-citibike-tripdata.csv\n"
     ]
    }
   ],
   "source": [
    "# Read data for all of 2014\n",
    "months = [(\"%02d\" % i) for i in range(1,13)]\n",
    "dfs2014 = []\n",
    "for i in months[:8]:\n",
    "    file = \"2014-\" +i +\" - Citi Bike trip data.csv\"\n",
    "    print file    \n",
    "    monthlyTripData = pd.read_csv(\"\".join(['data/',file]))\n",
    "    dfs2014.append(monthlyTripData)\n",
    "for i in months[8:13]:\n",
    "    file = \"2014\" +i +\"-citibike-tripdata.csv\"\n",
    "    print file    \n",
    "    monthlyTripData = pd.read_csv(\"\".join(['data/',file]))\n",
    "    dfs2014.append(monthlyTripData)"
   ]
  },
  {
   "cell_type": "code",
   "execution_count": 6,
   "metadata": {
    "collapsed": false
   },
   "outputs": [
    {
     "name": "stdout",
     "output_type": "stream",
     "text": [
      "201501-citibike-tripdata.csv\n",
      "201502-citibike-tripdata.csv\n",
      "201503-citibike-tripdata.csv\n",
      "201504-citibike-tripdata.csv\n",
      "201505-citibike-tripdata.csv\n",
      "201506-citibike-tripdata.csv\n",
      "201507-citibike-tripdata.csv\n",
      "201508-citibike-tripdata.csv\n",
      "201509-citibike-tripdata.csv\n",
      "201510-citibike-tripdata.csv\n",
      "201511-citibike-tripdata.csv\n"
     ]
    }
   ],
   "source": [
    "# Read data for all of 2015\n",
    "months = [(\"%02d\" % i) for i in range(1,12)]\n",
    "dfs2015 = []\n",
    "for i in months:\n",
    "    file = \"2015\" +i +\"-citibike-tripdata.csv\"\n",
    "    print file    \n",
    "    monthlyTripData = pd.read_csv(\"\".join(['data/',file]))\n",
    "    dfs2015.append(monthlyTripData)"
   ]
  },
  {
   "cell_type": "code",
   "execution_count": null,
   "metadata": {
    "collapsed": false
   },
   "outputs": [],
   "source": [
    "import calendar\n",
    "sns.set()\n",
    "sns.set_context(\"talk\")\n",
    "current_palette = sns.color_palette()\n",
    "sns.palplot(current_palette)\n",
    "\n",
    "len(dfs2014) # 11\n",
    "dfs2014[0] #data for January\n",
    "month_names = [calendar.month_name[i+1] for i in range(len(dfs2014))]\n",
    "plt.figure(figsize=(16, 4))\n",
    "\n",
    "plt.subplot(121)\n",
    "sns.barplot(range(len(dfs2014)),[len(dfs2014[i]) for i in range(len(dfs2014))])\n",
    "plt.xticks(range(len(dfs2014)),month_names)\n",
    "\n",
    "month_names = [calendar.month_name[i+1] for i in range(len(dfs2015))]\n",
    "plt.subplot(122)\n",
    "plt.bar(range(len(dfs2015)),[len(dfs2015[i]) for i in range(len(dfs2015))])\n",
    "plt.xticks(range(len(dfs2015)),month_names)\n",
    "plt.show()"
   ]
  },
  {
   "cell_type": "code",
   "execution_count": null,
   "metadata": {
    "collapsed": false
   },
   "outputs": [],
   "source": [
    "# plotting tripduration by gender (Jan 2015). Removing 0 gender (missing data)\n",
    "data = dfs2015[0][dfs2015[0]['gender']!=0]\n",
    "data = data.ix[np.random.random_integers(0,len(data),1000)]\n",
    "sns.lmplot(x='birth year', y='tripduration', hue='gender', data=data)"
   ]
  },
  {
   "cell_type": "code",
   "execution_count": null,
   "metadata": {
    "collapsed": false
   },
   "outputs": [],
   "source": [
    "# print column names with NaNs\n",
    "[x +\"_\" +str(i) for i in range(0,12) for x in dfs2014[i] if any(dfs2014[i][x].isnull())]"
   ]
  },
  {
   "cell_type": "code",
   "execution_count": null,
   "metadata": {
    "collapsed": false
   },
   "outputs": [],
   "source": [
    "# print column names with NaNs\n",
    "[x +\"_\" +str(i) for i in range(0,11) for x in dfs2015[i] if any(dfs2015[i][x].isnull())]"
   ]
  },
  {
   "cell_type": "code",
   "execution_count": null,
   "metadata": {
    "collapsed": false
   },
   "outputs": [],
   "source": [
    "# Parse dates\n",
    "from datetime import datetime\n",
    "\n",
    "a = tripData.starttime[0]\n",
    "print a\n",
    "datetime.now()\n",
    "#datetime.strptime(a,'%m/%d/%Y')\n",
    "#datetime.datetime(2010,1,1,0,0)\n",
    "b = datetime.strptime(a,\"%m/%d/%Y %H:%M:%S\")\n",
    "b"
   ]
  },
  {
   "cell_type": "code",
   "execution_count": null,
   "metadata": {
    "collapsed": false
   },
   "outputs": [],
   "source": [
    "# dates = [datetime.strptime(x,\"%m/%d/%Y %H:%M:%S\") for x in tripData.starttime]\n",
    "# dates[:10]\n",
    "\n",
    "# can also use:\n",
    "# from dateutil.parser import parse\n",
    "# [parse(x) for x in data.starttime]"
   ]
  },
  {
   "cell_type": "code",
   "execution_count": null,
   "metadata": {
    "collapsed": false
   },
   "outputs": [],
   "source": [
    "# from dateutil.parser import parse\n",
    "# new = pd.Series(np.random.randn(100), index = pd.date_range(parse(data.starttime[0]),periods = 100))\n",
    "# new.plot()"
   ]
  },
  {
   "cell_type": "code",
   "execution_count": null,
   "metadata": {
    "collapsed": false
   },
   "outputs": [],
   "source": [
    "# How many bikes are there?\n",
    "len((tripData.bikeid.unique()))"
   ]
  },
  {
   "cell_type": "code",
   "execution_count": null,
   "metadata": {
    "collapsed": false
   },
   "outputs": [],
   "source": [
    "# Proportion of male / female (0 is unknown)\n",
    "(tripData.gender.value_counts() / tripData.gender.shape[0] * 100).round(2)"
   ]
  },
  {
   "cell_type": "code",
   "execution_count": null,
   "metadata": {
    "collapsed": false
   },
   "outputs": [],
   "source": [
    "# Proportion of Subscribers\n",
    "(tripData.usertype.value_counts() / tripData.usertype.shape[0] * 100).round(2)"
   ]
  },
  {
   "cell_type": "code",
   "execution_count": null,
   "metadata": {
    "collapsed": false
   },
   "outputs": [],
   "source": [
    "# tripData['birth year'].plot(kind='hist')\n",
    "tripData[tripData['birth year'] > 1930]['birth year'].plot(kind = 'hist')"
   ]
  },
  {
   "cell_type": "code",
   "execution_count": null,
   "metadata": {
    "collapsed": false
   },
   "outputs": [],
   "source": [
    "# Enter trip duration:\n",
    "trip_duration_in_minutes = 10\n",
    "\n",
    "trip_duration = trip_duration_in_minutes * 60.0\n",
    "x = tripData[tripData.tripduration > trip_duration].shape[0] / float(tripData.shape[0]) * 100\n",
    "x = round(x,2)\n",
    "print str(x) +\" percent of trips were longer than \" + str(trip_duration_in_minutes) +\" minutes\""
   ]
  },
  {
   "cell_type": "code",
   "execution_count": null,
   "metadata": {
    "collapsed": true
   },
   "outputs": [],
   "source": [
    "#------------------------------------------------------------------------------------------------#"
   ]
  },
  {
   "cell_type": "code",
   "execution_count": null,
   "metadata": {
    "collapsed": false
   },
   "outputs": [],
   "source": [
    "# Get only the first 100 rows\n",
    "data = tripData.ix[:99,:].copy()\n",
    "data"
   ]
  },
  {
   "cell_type": "code",
   "execution_count": null,
   "metadata": {
    "collapsed": false
   },
   "outputs": [],
   "source": [
    "data.tripduration.plot()"
   ]
  },
  {
   "cell_type": "code",
   "execution_count": null,
   "metadata": {
    "collapsed": false
   },
   "outputs": [],
   "source": [
    "data.groupby('gender').tripduration.sum()"
   ]
  },
  {
   "cell_type": "code",
   "execution_count": null,
   "metadata": {
    "collapsed": false
   },
   "outputs": [],
   "source": [
    "# url = 'https://www.citibikenyc.com/stations/json'\n",
    "# all_stations = pd.read_json(url)['stationBeanList']\n",
    "\n",
    "# # all_stations = all_stations.apply(lambda x: x['stationName'])\n",
    "\n",
    "# # # decode html\n",
    "# # html_parser = HTMLParser.HTMLParser()\n",
    "# # my_unique_stations_decoded = my_unique_stations.apply(html_parser.unescape)\n",
    "\n",
    "# # # exclude visited stations\n",
    "# # not_visited_station = lambda x: x not in my_unique_stations_decoded.values\n",
    "# # not_visited_stations = all_stations.apply(not_visited_station)"
   ]
  },
  {
   "cell_type": "code",
   "execution_count": null,
   "metadata": {
    "collapsed": false
   },
   "outputs": [],
   "source": [
    "import urllib2\n",
    "url = 'https://www.citibikenyc.com/stations/json'\n",
    "request = urllib2.Request(url)\n",
    "response = urllib2.urlopen(request)\n",
    "jsonData = response.read()"
   ]
  },
  {
   "cell_type": "code",
   "execution_count": null,
   "metadata": {
    "collapsed": false
   },
   "outputs": [],
   "source": [
    "# Anoter way of reading the data\n",
    "jsonData = pd.read_json(url)\n",
    "jsonData.ix[:,1][0]['id']"
   ]
  },
  {
   "cell_type": "code",
   "execution_count": null,
   "metadata": {
    "collapsed": false
   },
   "outputs": [],
   "source": [
    "import urllib2\n",
    "from urllib2 import Request, urlopen\n",
    "import json\n",
    "from pandas.io.json import json_normalize\n",
    "\n",
    "url = 'https://www.citibikenyc.com/stations/json'\n",
    "all_stations = pd.read_json(url)['stationBeanList']\n",
    "x = urllib2.urlopen(url)"
   ]
  },
  {
   "cell_type": "code",
   "execution_count": null,
   "metadata": {
    "collapsed": false
   },
   "outputs": [],
   "source": [
    "# Read Json using the requests package\n",
    "import requests\n",
    "r = requests.get(url)\n",
    "r.text\n",
    "r.json()\n",
    "r.json().keys()\n",
    "r.json()['executionTime']\n",
    "r.json()['stationBeanList']\n",
    "len(r.json()['stationBeanList']) # 507 docks\n",
    "r.json()['stationBeanList'] [0] # First key/station\n",
    "from pandas.io.json import json_normalize\n",
    "df = json_normalize(r.json()['stationBeanList'])\n",
    "\n",
    "print r.json()['executionTime']\n",
    "f, (ax1, ax2) = plt.subplots(1, 2)\n",
    "ax1.hist(df['availableBikes'])\n",
    "ax1.set_title('availableBikes')\n",
    "ax2.hist(df['totalDocks'])\n",
    "ax2.set_title('totalDocks')"
   ]
  },
  {
   "cell_type": "markdown",
   "metadata": {
    "collapsed": false
   },
   "source": [
    "df.shape\n",
    "df.columns\n",
    "df.statusValue.unique()  # array([u'In Service', u'Not In Service'], dtype=object)\n",
    "len(df[df.statusValue=='Not In Service']) / float(len(df[df.statusValue=='In Service']))"
   ]
  }
 ],
 "metadata": {
  "kernelspec": {
   "display_name": "Python 2",
   "language": "python",
   "name": "python2"
  },
  "language_info": {
   "codemirror_mode": {
    "name": "ipython",
    "version": 2
   },
   "file_extension": ".py",
   "mimetype": "text/x-python",
   "name": "python",
   "nbconvert_exporter": "python",
   "pygments_lexer": "ipython2",
   "version": "2.7.11"
  }
 },
 "nbformat": 4,
 "nbformat_minor": 0
}
