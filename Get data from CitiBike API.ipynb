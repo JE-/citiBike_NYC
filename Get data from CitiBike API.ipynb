{
 "cells": [
  {
   "cell_type": "code",
   "execution_count": 6,
   "metadata": {
    "collapsed": false
   },
   "outputs": [],
   "source": [
    "import os\n",
    "import numpy as np\n",
    "import pandas as pd\n",
    "import matplotlib.pyplot as plt\n",
    "import re\n",
    "import seaborn as sns\n",
    "%matplotlib inline\n",
    "#plt.style.use('ggplot')\n",
    "#plt.rcParams['figure.figsize'] = (12, 6)\n",
    "os.chdir('/Users/Jonathan/citiBike_NYC')\n",
    "\n",
    "# Set the global default size of matplotlib figures\n",
    "plt.rc('figure', figsize=(10, 5))"
   ]
  },
  {
   "cell_type": "code",
   "execution_count": 15,
   "metadata": {
    "collapsed": false
   },
   "outputs": [
    {
     "name": "stdout",
     "output_type": "stream",
     "text": [
      "2016-01-03 01:03:45 PM\n"
     ]
    },
    {
     "data": {
      "text/plain": [
       "<matplotlib.text.Text at 0x10d610150>"
      ]
     },
     "execution_count": 15,
     "metadata": {},
     "output_type": "execute_result"
    },
    {
     "data": {
      "image/png": "[encoded data removed]",
      "text/plain": [
       "<matplotlib.figure.Figure at 0x10c483890>"
      ]
     },
     "metadata": {},
     "output_type": "display_data"
    }
   ],
   "source": [
    "# Read Json using the requests package\n",
    "import requests\n",
    "\n",
    "url = 'https://www.citibikenyc.com/stations/json'\n",
    "r = requests.get(url)\n",
    "r.text\n",
    "r.json()\n",
    "r.json().keys()\n",
    "print r.json()['executionTime']\n",
    "r.json()['stationBeanList']\n",
    "len(r.json()['stationBeanList']) # 507 docks\n",
    "r.json()['stationBeanList'][0] # First key/station\n",
    "from pandas.io.json import json_normalize\n",
    "df = json_normalize(r.json()['stationBeanList']) # convert to DF\n",
    "\n",
    "f,(ax1, ax2) = plt.subplots(1, 2)\n",
    "ax1.hist(df['availableBikes'])\n",
    "ax1.set_title('availableBikes')\n",
    "ax2.hist(df['totalDocks'])\n",
    "ax2.set_title('totalDocks')"
   ]
  },
  {
   "cell_type": "code",
   "execution_count": 18,
   "metadata": {
    "collapsed": false
   },
   "outputs": [
    {
     "data": {
      "text/html": [
       "<div>\n",
       "<table border=\"1\" class=\"dataframe\">\n",
       "  <thead>\n",
       "    <tr style=\"text-align: right;\">\n",
       "      <th></th>\n",
       "      <th>altitude</th>\n",
       "      <th>availableBikes</th>\n",
       "      <th>availableDocks</th>\n",
       "      <th>city</th>\n",
       "      <th>id</th>\n",
       "      <th>landMark</th>\n",
       "      <th>lastCommunicationTime</th>\n",
       "      <th>latitude</th>\n",
       "      <th>location</th>\n",
       "      <th>longitude</th>\n",
       "      <th>postalCode</th>\n",
       "      <th>stAddress1</th>\n",
       "      <th>stAddress2</th>\n",
       "      <th>stationName</th>\n",
       "      <th>statusKey</th>\n",
       "      <th>statusValue</th>\n",
       "      <th>testStation</th>\n",
       "      <th>totalDocks</th>\n",
       "    </tr>\n",
       "  </thead>\n",
       "  <tbody>\n",
       "    <tr>\n",
       "      <th>0</th>\n",
       "      <td></td>\n",
       "      <td>33</td>\n",
       "      <td>6</td>\n",
       "      <td></td>\n",
       "      <td>72</td>\n",
       "      <td></td>\n",
       "      <td>2016-01-03 01:03:07 PM</td>\n",
       "      <td>40.767272</td>\n",
       "      <td></td>\n",
       "      <td>-73.993929</td>\n",
       "      <td></td>\n",
       "      <td>W 52 St &amp; 11 Ave</td>\n",
       "      <td></td>\n",
       "      <td>W 52 St &amp; 11 Ave</td>\n",
       "      <td>1</td>\n",
       "      <td>In Service</td>\n",
       "      <td>False</td>\n",
       "      <td>39</td>\n",
       "    </tr>\n",
       "    <tr>\n",
       "      <th>1</th>\n",
       "      <td></td>\n",
       "      <td>23</td>\n",
       "      <td>9</td>\n",
       "      <td></td>\n",
       "      <td>79</td>\n",
       "      <td></td>\n",
       "      <td>2016-01-03 01:01:10 PM</td>\n",
       "      <td>40.719116</td>\n",
       "      <td></td>\n",
       "      <td>-74.006667</td>\n",
       "      <td></td>\n",
       "      <td>Franklin St &amp; W Broadway</td>\n",
       "      <td></td>\n",
       "      <td>Franklin St &amp; W Broadway</td>\n",
       "      <td>1</td>\n",
       "      <td>In Service</td>\n",
       "      <td>False</td>\n",
       "      <td>33</td>\n",
       "    </tr>\n",
       "    <tr>\n",
       "      <th>2</th>\n",
       "      <td></td>\n",
       "      <td>6</td>\n",
       "      <td>21</td>\n",
       "      <td></td>\n",
       "      <td>82</td>\n",
       "      <td></td>\n",
       "      <td>2016-01-03 01:00:39 PM</td>\n",
       "      <td>40.711174</td>\n",
       "      <td></td>\n",
       "      <td>-74.000165</td>\n",
       "      <td></td>\n",
       "      <td>St James Pl &amp; Pearl St</td>\n",
       "      <td></td>\n",
       "      <td>St James Pl &amp; Pearl St</td>\n",
       "      <td>1</td>\n",
       "      <td>In Service</td>\n",
       "      <td>False</td>\n",
       "      <td>27</td>\n",
       "    </tr>\n",
       "    <tr>\n",
       "      <th>3</th>\n",
       "      <td></td>\n",
       "      <td>30</td>\n",
       "      <td>32</td>\n",
       "      <td></td>\n",
       "      <td>83</td>\n",
       "      <td></td>\n",
       "      <td>2016-01-03 01:02:55 PM</td>\n",
       "      <td>40.683826</td>\n",
       "      <td></td>\n",
       "      <td>-73.976323</td>\n",
       "      <td></td>\n",
       "      <td>Atlantic Ave &amp; Fort Greene Pl</td>\n",
       "      <td></td>\n",
       "      <td>Atlantic Ave &amp; Fort Greene Pl</td>\n",
       "      <td>1</td>\n",
       "      <td>In Service</td>\n",
       "      <td>False</td>\n",
       "      <td>62</td>\n",
       "    </tr>\n",
       "    <tr>\n",
       "      <th>4</th>\n",
       "      <td></td>\n",
       "      <td>12</td>\n",
       "      <td>27</td>\n",
       "      <td></td>\n",
       "      <td>116</td>\n",
       "      <td></td>\n",
       "      <td>2016-01-03 01:01:38 PM</td>\n",
       "      <td>40.741776</td>\n",
       "      <td></td>\n",
       "      <td>-74.001497</td>\n",
       "      <td></td>\n",
       "      <td>W 17 St &amp; 8 Ave</td>\n",
       "      <td></td>\n",
       "      <td>W 17 St &amp; 8 Ave</td>\n",
       "      <td>1</td>\n",
       "      <td>In Service</td>\n",
       "      <td>False</td>\n",
       "      <td>39</td>\n",
       "    </tr>\n",
       "  </tbody>\n",
       "</table>\n",
       "</div>"
      ],
      "text/plain": [
       "  altitude  availableBikes  availableDocks city   id landMark  \\\n",
       "0                       33               6        72            \n",
       "1                       23               9        79            \n",
       "2                        6              21        82            \n",
       "3                       30              32        83            \n",
       "4                       12              27       116            \n",
       "\n",
       "    lastCommunicationTime   latitude location  longitude postalCode  \\\n",
       "0  2016-01-03 01:03:07 PM  40.767272          -73.993929              \n",
       "1  2016-01-03 01:01:10 PM  40.719116          -74.006667              \n",
       "2  2016-01-03 01:00:39 PM  40.711174          -74.000165              \n",
       "3  2016-01-03 01:02:55 PM  40.683826          -73.976323              \n",
       "4  2016-01-03 01:01:38 PM  40.741776          -74.001497              \n",
       "\n",
       "                      stAddress1 stAddress2                    stationName  \\\n",
       "0               W 52 St & 11 Ave                          W 52 St & 11 Ave   \n",
       "1       Franklin St & W Broadway                  Franklin St & W Broadway   \n",
       "2         St James Pl & Pearl St                    St James Pl & Pearl St   \n",
       "3  Atlantic Ave & Fort Greene Pl             Atlantic Ave & Fort Greene Pl   \n",
       "4                W 17 St & 8 Ave                           W 17 St & 8 Ave   \n",
       "\n",
       "   statusKey statusValue testStation  totalDocks  \n",
       "0          1  In Service       False          39  \n",
       "1          1  In Service       False          33  \n",
       "2          1  In Service       False          27  \n",
       "3          1  In Service       False          62  \n",
       "4          1  In Service       False          39  "
      ]
     },
     "execution_count": 18,
     "metadata": {},
     "output_type": "execute_result"
    }
   ],
   "source": [
    "df.head()"
   ]
  },
  {
   "cell_type": "code",
   "execution_count": 8,
   "metadata": {
    "collapsed": false
   },
   "outputs": [
    {
     "data": {
      "text/plain": [
       "0.013972055888223553"
      ]
     },
     "execution_count": 8,
     "metadata": {},
     "output_type": "execute_result"
    }
   ],
   "source": [
    "df.shape\n",
    "df.columns\n",
    "df.statusValue.unique()  # array([u'In Service', u'Not In Service'], dtype=object)\n",
    "len(df[df.statusValue=='Not In Service']) / float(len(df[df.statusValue=='In Service']))"
   ]
  },
  {
   "cell_type": "code",
   "execution_count": 17,
   "metadata": {
    "collapsed": false
   },
   "outputs": [
    {
     "name": "stdout",
     "output_type": "stream",
     "text": [
      "5462\n",
      "10927\n"
     ]
    }
   ],
   "source": [
    "print df.availableBikes.sum()\n",
    "print df.availableDocks.sum()"
   ]
  }
 ],
 "metadata": {
  "kernelspec": {
   "display_name": "Python 2",
   "language": "python",
   "name": "python2"
  },
  "language_info": {
   "codemirror_mode": {
    "name": "ipython",
    "version": 2
   },
   "file_extension": ".py",
   "mimetype": "text/x-python",
   "name": "python",
   "nbconvert_exporter": "python",
   "pygments_lexer": "ipython2",
   "version": "2.7.11"
  }
 },
 "nbformat": 4,
 "nbformat_minor": 0
}
