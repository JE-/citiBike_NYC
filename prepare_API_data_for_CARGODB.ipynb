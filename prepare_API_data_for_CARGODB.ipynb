{
 "cells": [
  {
   "cell_type": "code",
   "execution_count": 21,
   "metadata": {
    "collapsed": false
   },
   "outputs": [
    {
     "data": {
      "text/plain": [
       "'/home/vagrant/citiBike_NYC'"
      ]
     },
     "execution_count": 21,
     "metadata": {},
     "output_type": "execute_result"
    }
   ],
   "source": [
    "import os\n",
    "import numpy as np\n",
    "import pandas as pd\n",
    "import matplotlib.pyplot as plt\n",
    "import re\n",
    "import seaborn as sns\n",
    "%matplotlib inline\n",
    "#plt.style.use('ggplot')\n",
    "#plt.rcParams['figure.figsize'] = (12, 6)\n",
    "\n",
    "# Set the global default size of matplotlib figures\n",
    "plt.rc('figure', figsize=(10, 5))\n",
    "os.getcwd()"
   ]
  },
  {
   "cell_type": "code",
   "execution_count": 22,
   "metadata": {
    "collapsed": false
   },
   "outputs": [
    {
     "data": {
      "text/plain": [
       "<matplotlib.text.Text at 0x7fa19f4bc710>"
      ]
     },
     "execution_count": 22,
     "metadata": {},
     "output_type": "execute_result"
    },
    {
     "data": {
      "image/png": "[encoded data removed]",
      "text/plain": [
       "<matplotlib.figure.Figure at 0x7fa19f715410>"
      ]
     },
     "metadata": {},
     "output_type": "display_data"
    }
   ],
   "source": [
    "import ujson\n",
    "from pandas.io.json import json_normalize\n",
    "\n",
    "filename = 'API_Data/2016-01-13 05:51:26 PM'\n",
    "\n",
    "with open(filename,'r') as f:\n",
    "    data = f.read()\n",
    "\n",
    "r = ujson.loads(data)\n",
    "time = r['executionTime']\n",
    "data = r['stationBeanList']\n",
    "len(data) # 508 docks\n",
    "r['stationBeanList'][0] # First key/station\n",
    "\n",
    "df = json_normalize(r['stationBeanList']) # convert to DF\n",
    "\n",
    "f,(ax1, ax2) = plt.subplots(1, 2)\n",
    "ax1.hist(df['availableBikes'])\n",
    "ax1.set_title('availableBikes')\n",
    "ax2.hist(df['totalDocks'])\n",
    "ax2.set_title('totalDocks')"
   ]
  },
  {
   "cell_type": "code",
   "execution_count": 23,
   "metadata": {
    "collapsed": false
   },
   "outputs": [],
   "source": [
    "filename_out = 'to_CartoDB_6pm.csv'\n",
    "df.to_csv(filename_out)"
   ]
  },
  {
   "cell_type": "code",
   "execution_count": 24,
   "metadata": {
    "collapsed": false
   },
   "outputs": [
    {
     "data": {
      "text/plain": [
       "0.01195219123505976"
      ]
     },
     "execution_count": 24,
     "metadata": {},
     "output_type": "execute_result"
    }
   ],
   "source": [
    "df.shape\n",
    "df.columns\n",
    "df.statusValue.unique()  # array([u'In Service', u'Not In Service'], dtype=object)\n",
    "len(df[df.statusValue=='Not In Service']) / float(len(df[df.statusValue=='In Service']))"
   ]
  },
  {
   "cell_type": "code",
   "execution_count": 41,
   "metadata": {
    "collapsed": false
   },
   "outputs": [
    {
     "name": "stdout",
     "output_type": "stream",
     "text": [
      "5875\n",
      "10365\n"
     ]
    }
   ],
   "source": [
    "print df.availableBikes.sum()\n",
    "print df.availableDocks.sum()"
   ]
  }
 ],
 "metadata": {
  "kernelspec": {
   "display_name": "Python 2",
   "language": "python",
   "name": "python2"
  },
  "language_info": {
   "codemirror_mode": {
    "name": "ipython",
    "version": 2
   },
   "file_extension": ".py",
   "mimetype": "text/x-python",
   "name": "python",
   "nbconvert_exporter": "python",
   "pygments_lexer": "ipython2",
   "version": "2.7.11"
  }
 },
 "nbformat": 4,
 "nbformat_minor": 0
}
