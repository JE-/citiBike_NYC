{
 "cells": [
  {
   "cell_type": "code",
   "execution_count": 1,
   "metadata": {
    "collapsed": false
   },
   "outputs": [],
   "source": [
    "import os\n",
    "import numpy as np\n",
    "import pandas as pd\n",
    "import matplotlib.pyplot as plt\n",
    "%matplotlib inline\n",
    "plt.rcParams['figure.figsize'] = (14, 7)\n",
    "os.chdir('/Users/Jonathan/citiBike_NYC')"
   ]
  },
  {
   "cell_type": "code",
   "execution_count": 2,
   "metadata": {
    "collapsed": false
   },
   "outputs": [],
   "source": [
    "# # Read data from citibikenyc website (https://www.citibikenyc.com/system-data)\n",
    "\n",
    "# from zipfile import ZipFile\n",
    "# from StringIO import StringIO\n",
    "# import urllib2\n",
    "\n",
    "# # Download all files for 2015\n",
    "# months = [(\"%02d\" % i) for i in range(1,12)]\n",
    "# dfs = []\n",
    "# for i in months:\n",
    "#     url = \"https://s3.amazonaws.com/tripdata/2015\" +i + \"-citibike-tripdata.zip\"\n",
    "#     print url    \n",
    "#     r = urllib2.urlopen(url).read()\n",
    "#     file = ZipFile(StringIO(r))\n",
    "#     monthlyTripData = file.open(\"\".join([\"2015\",i,\"-citibike-tripdata.csv\"]))\n",
    "#     dfs.append(pd.read_csv(monthlyTripData))"
   ]
  },
  {
   "cell_type": "code",
   "execution_count": 3,
   "metadata": {
    "collapsed": true
   },
   "outputs": [],
   "source": [
    "# # Save all DFs\n",
    "# import pickle\n",
    "\n",
    "# with open('objs.pickle', 'w') as f:\n",
    "#     pickle.dump([dfs], f)"
   ]
  },
  {
   "cell_type": "code",
   "execution_count": 4,
   "metadata": {
    "collapsed": false
   },
   "outputs": [],
   "source": [
    "# # Load all DFs\n",
    "# import pickle\n",
    "\n",
    "# with open('objs.pickle') as f:\n",
    "#     dfs = pickle.load(f)"
   ]
  },
  {
   "cell_type": "code",
   "execution_count": 5,
   "metadata": {
    "collapsed": false
   },
   "outputs": [
    {
     "data": {
      "text/html": [
       "<div>\n",
       "<table border=\"1\" class=\"dataframe\">\n",
       "  <thead>\n",
       "    <tr style=\"text-align: right;\">\n",
       "      <th></th>\n",
       "      <th>tripduration</th>\n",
       "      <th>starttime</th>\n",
       "      <th>stoptime</th>\n",
       "      <th>start station id</th>\n",
       "      <th>start station name</th>\n",
       "      <th>start station latitude</th>\n",
       "      <th>start station longitude</th>\n",
       "      <th>end station id</th>\n",
       "      <th>end station name</th>\n",
       "      <th>end station latitude</th>\n",
       "      <th>end station longitude</th>\n",
       "      <th>bikeid</th>\n",
       "      <th>usertype</th>\n",
       "      <th>birth year</th>\n",
       "      <th>gender</th>\n",
       "    </tr>\n",
       "  </thead>\n",
       "  <tbody>\n",
       "    <tr>\n",
       "      <th>0</th>\n",
       "      <td>1110</td>\n",
       "      <td>11/1/2015 00:00:00</td>\n",
       "      <td>11/1/2015 00:18:31</td>\n",
       "      <td>537</td>\n",
       "      <td>Lexington Ave &amp; E 24 St</td>\n",
       "      <td>40.740259</td>\n",
       "      <td>-73.984092</td>\n",
       "      <td>531</td>\n",
       "      <td>Forsyth St &amp; Broome St</td>\n",
       "      <td>40.718939</td>\n",
       "      <td>-73.992663</td>\n",
       "      <td>22545</td>\n",
       "      <td>Subscriber</td>\n",
       "      <td>1981</td>\n",
       "      <td>2</td>\n",
       "    </tr>\n",
       "    <tr>\n",
       "      <th>1</th>\n",
       "      <td>1094</td>\n",
       "      <td>11/1/2015 00:00:01</td>\n",
       "      <td>11/1/2015 00:18:15</td>\n",
       "      <td>537</td>\n",
       "      <td>Lexington Ave &amp; E 24 St</td>\n",
       "      <td>40.740259</td>\n",
       "      <td>-73.984092</td>\n",
       "      <td>531</td>\n",
       "      <td>Forsyth St &amp; Broome St</td>\n",
       "      <td>40.718939</td>\n",
       "      <td>-73.992663</td>\n",
       "      <td>23959</td>\n",
       "      <td>Subscriber</td>\n",
       "      <td>1980</td>\n",
       "      <td>1</td>\n",
       "    </tr>\n",
       "    <tr>\n",
       "      <th>2</th>\n",
       "      <td>520</td>\n",
       "      <td>11/1/2015 00:00:05</td>\n",
       "      <td>11/1/2015 00:08:45</td>\n",
       "      <td>536</td>\n",
       "      <td>1 Ave &amp; E 30 St</td>\n",
       "      <td>40.741444</td>\n",
       "      <td>-73.975361</td>\n",
       "      <td>498</td>\n",
       "      <td>Broadway &amp; W 32 St</td>\n",
       "      <td>40.748549</td>\n",
       "      <td>-73.988084</td>\n",
       "      <td>22251</td>\n",
       "      <td>Subscriber</td>\n",
       "      <td>1988</td>\n",
       "      <td>1</td>\n",
       "    </tr>\n",
       "    <tr>\n",
       "      <th>3</th>\n",
       "      <td>753</td>\n",
       "      <td>11/1/2015 00:00:15</td>\n",
       "      <td>11/1/2015 00:12:48</td>\n",
       "      <td>229</td>\n",
       "      <td>Great Jones St</td>\n",
       "      <td>40.727434</td>\n",
       "      <td>-73.993790</td>\n",
       "      <td>328</td>\n",
       "      <td>Watts St &amp; Greenwich St</td>\n",
       "      <td>40.724055</td>\n",
       "      <td>-74.009660</td>\n",
       "      <td>15869</td>\n",
       "      <td>Subscriber</td>\n",
       "      <td>1981</td>\n",
       "      <td>1</td>\n",
       "    </tr>\n",
       "    <tr>\n",
       "      <th>4</th>\n",
       "      <td>353</td>\n",
       "      <td>11/1/2015 00:00:22</td>\n",
       "      <td>11/1/2015 00:06:15</td>\n",
       "      <td>285</td>\n",
       "      <td>Broadway &amp; E 14 St</td>\n",
       "      <td>40.734546</td>\n",
       "      <td>-73.990741</td>\n",
       "      <td>151</td>\n",
       "      <td>Cleveland Pl &amp; Spring St</td>\n",
       "      <td>40.722104</td>\n",
       "      <td>-73.997249</td>\n",
       "      <td>21645</td>\n",
       "      <td>Subscriber</td>\n",
       "      <td>1987</td>\n",
       "      <td>1</td>\n",
       "    </tr>\n",
       "  </tbody>\n",
       "</table>\n",
       "</div>"
      ],
      "text/plain": [
       "   tripduration           starttime            stoptime  start station id  \\\n",
       "0          1110  11/1/2015 00:00:00  11/1/2015 00:18:31               537   \n",
       "1          1094  11/1/2015 00:00:01  11/1/2015 00:18:15               537   \n",
       "2           520  11/1/2015 00:00:05  11/1/2015 00:08:45               536   \n",
       "3           753  11/1/2015 00:00:15  11/1/2015 00:12:48               229   \n",
       "4           353  11/1/2015 00:00:22  11/1/2015 00:06:15               285   \n",
       "\n",
       "        start station name  start station latitude  start station longitude  \\\n",
       "0  Lexington Ave & E 24 St               40.740259               -73.984092   \n",
       "1  Lexington Ave & E 24 St               40.740259               -73.984092   \n",
       "2          1 Ave & E 30 St               40.741444               -73.975361   \n",
       "3           Great Jones St               40.727434               -73.993790   \n",
       "4       Broadway & E 14 St               40.734546               -73.990741   \n",
       "\n",
       "   end station id          end station name  end station latitude  \\\n",
       "0             531    Forsyth St & Broome St             40.718939   \n",
       "1             531    Forsyth St & Broome St             40.718939   \n",
       "2             498        Broadway & W 32 St             40.748549   \n",
       "3             328   Watts St & Greenwich St             40.724055   \n",
       "4             151  Cleveland Pl & Spring St             40.722104   \n",
       "\n",
       "   end station longitude  bikeid    usertype  birth year  gender  \n",
       "0             -73.992663   22545  Subscriber        1981       2  \n",
       "1             -73.992663   23959  Subscriber        1980       1  \n",
       "2             -73.988084   22251  Subscriber        1988       1  \n",
       "3             -74.009660   15869  Subscriber        1981       1  \n",
       "4             -73.997249   21645  Subscriber        1987       1  "
      ]
     },
     "execution_count": 5,
     "metadata": {},
     "output_type": "execute_result"
    }
   ],
   "source": [
    "tripData = pd.read_csv('data/201511-citibike-tripdata.csv')\n",
    "tripData.head()"
   ]
  },
  {
   "cell_type": "code",
   "execution_count": 6,
   "metadata": {
    "collapsed": false
   },
   "outputs": [
    {
     "data": {
      "text/plain": [
       "tripduration                 int64\n",
       "starttime                   object\n",
       "stoptime                    object\n",
       "start station id             int64\n",
       "start station name          object\n",
       "start station latitude     float64\n",
       "start station longitude    float64\n",
       "end station id               int64\n",
       "end station name            object\n",
       "end station latitude       float64\n",
       "end station longitude      float64\n",
       "bikeid                       int64\n",
       "usertype                    object\n",
       "birth year                 float64\n",
       "gender                       int64\n",
       "dtype: object"
      ]
     },
     "execution_count": 6,
     "metadata": {},
     "output_type": "execute_result"
    }
   ],
   "source": [
    "tripData.dtypes"
   ]
  },
  {
   "cell_type": "code",
   "execution_count": 7,
   "metadata": {
    "collapsed": false
   },
   "outputs": [
    {
     "data": {
      "text/plain": [
       "(987245, 15)"
      ]
     },
     "execution_count": 7,
     "metadata": {},
     "output_type": "execute_result"
    }
   ],
   "source": [
    "tripData.shape"
   ]
  },
  {
   "cell_type": "code",
   "execution_count": 8,
   "metadata": {
    "collapsed": false
   },
   "outputs": [
    {
     "name": "stdout",
     "output_type": "stream",
     "text": [
      "11/1/2015 00:00:00\n"
     ]
    },
    {
     "data": {
      "text/plain": [
       "datetime.datetime(2015, 11, 1, 0, 0)"
      ]
     },
     "execution_count": 8,
     "metadata": {},
     "output_type": "execute_result"
    }
   ],
   "source": [
    "# Parse dates\n",
    "from datetime import datetime\n",
    "\n",
    "a = tripData.starttime[0]\n",
    "print a\n",
    "datetime.now()\n",
    "#datetime.strptime(a,'%m/%d/%Y')\n",
    "#datetime.datetime(2010,1,1,0,0)\n",
    "b = datetime.strptime(a,\"%m/%d/%Y %H:%M:%S\")\n",
    "b"
   ]
  },
  {
   "cell_type": "code",
   "execution_count": 9,
   "metadata": {
    "collapsed": false
   },
   "outputs": [
    {
     "data": {
      "text/plain": [
       "[datetime.datetime(2015, 11, 1, 0, 0),\n",
       " datetime.datetime(2015, 11, 1, 0, 0, 1),\n",
       " datetime.datetime(2015, 11, 1, 0, 0, 5),\n",
       " datetime.datetime(2015, 11, 1, 0, 0, 15),\n",
       " datetime.datetime(2015, 11, 1, 0, 0, 22),\n",
       " datetime.datetime(2015, 11, 1, 0, 0, 22),\n",
       " datetime.datetime(2015, 11, 1, 0, 0, 25),\n",
       " datetime.datetime(2015, 11, 1, 0, 0, 28),\n",
       " datetime.datetime(2015, 11, 1, 0, 0, 37),\n",
       " datetime.datetime(2015, 11, 1, 0, 0, 42)]"
      ]
     },
     "execution_count": 9,
     "metadata": {},
     "output_type": "execute_result"
    }
   ],
   "source": [
    "dates = [datetime.strptime(x,\"%m/%d/%Y %H:%M:%S\") for x in tripData.starttime]\n",
    "dates[:10]\n",
    "# can also use:\n",
    "# from dateutil.parser import parse\n",
    "# [parse(x) for x in data.starttime]"
   ]
  },
  {
   "cell_type": "code",
   "execution_count": 10,
   "metadata": {
    "collapsed": false
   },
   "outputs": [],
   "source": [
    "# from dateutil.parser import parse\n",
    "# new = pd.Series(np.random.randn(100), index = pd.date_range(parse(data.starttime[0]),periods = 100))\n",
    "# new.plot()"
   ]
  },
  {
   "cell_type": "code",
   "execution_count": 11,
   "metadata": {
    "collapsed": false
   },
   "outputs": [],
   "source": [
    "data = tripData.ix[:99,:]"
   ]
  },
  {
   "cell_type": "code",
   "execution_count": 12,
   "metadata": {
    "collapsed": false
   },
   "outputs": [
    {
     "data": {
      "text/plain": [
       "<matplotlib.axes._subplots.AxesSubplot at 0x118195c90>"
      ]
     },
     "execution_count": 12,
     "metadata": {},
     "output_type": "execute_result"
    },
    {
     "data": {
      "image/png": "[encoded data removed]",
      "text/plain": [
       "<matplotlib.figure.Figure at 0x10918ca50>"
      ]
     },
     "metadata": {},
     "output_type": "display_data"
    }
   ],
   "source": [
    "df = pd.DataFrame(tripData.tripduration)\n",
    "df.set_index(pd.DatetimeIndex(tripData['starttime']))\n",
    "df.plot()"
   ]
  },
  {
   "cell_type": "code",
   "execution_count": null,
   "metadata": {
    "collapsed": true
   },
   "outputs": [],
   "source": []
  }
 ],
 "metadata": {
  "kernelspec": {
   "display_name": "Python 2",
   "language": "python",
   "name": "python2"
  },
  "language_info": {
   "codemirror_mode": {
    "name": "ipython",
    "version": 2
   },
   "file_extension": ".py",
   "mimetype": "text/x-python",
   "name": "python",
   "nbconvert_exporter": "python",
   "pygments_lexer": "ipython2",
   "version": "2.7.11"
  }
 },
 "nbformat": 4,
 "nbformat_minor": 0
}
