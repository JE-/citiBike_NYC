{
 "cells": [
  {
   "cell_type": "code",
   "execution_count": 6,
   "metadata": {
    "collapsed": false
   },
   "outputs": [],
   "source": [
    "import os\n",
    "import numpy as np\n",
    "import pandas as pd\n",
    "import matplotlib.pyplot as plt\n",
    "import re\n",
    "import seaborn as sns\n",
    "from datetime import datetime\n",
    "import cPickle\n",
    "%matplotlib inline\n",
    "plt.style.use('ggplot')\n",
    "plt.rcParams['figure.figsize'] = (12, 6)\n",
    "#os.chdir('/Users/Jonathan/citiBike_NYC')\n",
    "sns.set_context(\"talk\")\n",
    "sns.set(rc={\"figure.figsize\": (6, 6)})\n",
    "import warnings; warnings.filterwarnings('ignore')"
   ]
  },
  {
   "cell_type": "code",
   "execution_count": null,
   "metadata": {
    "collapsed": false
   },
   "outputs": [],
   "source": [
    "# Work just with June 2015 for now\n",
    "\n",
    "url = 'https://storage.googleapis.com/tlc-trip-data/2015/yellow_tripdata_2015-06.csv'\n",
    "\n",
    "df = pd.read_csv(url)"
   ]
  },
  {
   "cell_type": "code",
   "execution_count": 7,
   "metadata": {
    "collapsed": false
   },
   "outputs": [
    {
     "name": "stdout",
     "output_type": "stream",
     "text": [
      "Your browser has been opened to visit:\n",
      "\n",
      "    https://accounts.google.com/o/oauth2/auth?scope=https%3A%2F%2Fwww.googleapis.com%2Fauth%2Fbigquery&redirect_uri=http%3A%2F%2Flocalhost%3A8080%2F&response_type=code&client_id=495642085510-k0tmvj2m941jhre2nbqka17vqpjfddtd.apps.googleusercontent.com&access_type=offline\n",
      "\n",
      "If your browser is on a different machine then exit and re-run this\n",
      "application with the command-line parameter \n",
      "\n",
      "  --noauth_local_webserver\n",
      "\n",
      "Authentication successful.\n",
      "Waiting for job to complete...\n"
     ]
    },
    {
     "name": "stderr",
     "output_type": "stream",
     "text": [
      "ERROR: An unexpected error occurred while tokenizing input\n",
      "The following traceback may be corrupted or invalid\n",
      "The error message is: ('EOF in multi-line string', (1, 23))\n",
      "\n"
     ]
    },
    {
     "ename": "GenericGBQException",
     "evalue": "Reason: invalidQuery, Message: BETWEEN arguments must have comparable types.",
     "output_type": "error",
     "traceback": [
      "\u001b[0;31m---------------------------------------------------------------------------\u001b[0m",
      "\u001b[0;31mGenericGBQException\u001b[0m                       Traceback (most recent call last)",
      "\u001b[0;32m<ipython-input-7-0cea67b46f34>\u001b[0m in \u001b[0;36m<module>\u001b[0;34m()\u001b[0m\n\u001b[1;32m      6\u001b[0m     \u001b[0mFROM\u001b[0m \u001b[0;34m[\u001b[0m\u001b[0mimjasonh\u001b[0m\u001b[0;34m-\u001b[0m\u001b[0mstorage\u001b[0m\u001b[0;34m:\u001b[0m\u001b[0mnyctaxi\u001b[0m\u001b[0;34m.\u001b[0m\u001b[0mtrip_data\u001b[0m\u001b[0;34m]\u001b[0m\u001b[0;34m\u001b[0m\u001b[0m\n\u001b[1;32m      7\u001b[0m     \u001b[0mWHERE\u001b[0m \u001b[0;34m(\u001b[0m\u001b[0mpickup_latitude\u001b[0m \u001b[0mBETWEEN\u001b[0m \u001b[0;36m40.61\u001b[0m \u001b[0mAND\u001b[0m \u001b[0;36m40.91\u001b[0m\u001b[0;34m)\u001b[0m \u001b[0mAND\u001b[0m \u001b[0;34m(\u001b[0m\u001b[0mpickup_longitude\u001b[0m \u001b[0mBETWEEN\u001b[0m \u001b[0;34m-\u001b[0m\u001b[0;36m74.06\u001b[0m \u001b[0mAND\u001b[0m \u001b[0;34m-\u001b[0m\u001b[0;36m73.77\u001b[0m\u001b[0;34m)\u001b[0m\u001b[0;34m\u001b[0m\u001b[0m\n\u001b[0;32m----> 8\u001b[0;31m     GROUP BY lat, long \"\"\", project_id='nyc-taxi-data-1217')\n\u001b[0m",
      "\u001b[0;32m/Users/Jonathan/anaconda2/lib/python2.7/site-packages/pandas/io/gbq.pyc\u001b[0m in \u001b[0;36mread_gbq\u001b[0;34m(query, project_id, index_col, col_order, reauth, verbose)\u001b[0m\n\u001b[1;32m    426\u001b[0m \u001b[0;34m\u001b[0m\u001b[0m\n\u001b[1;32m    427\u001b[0m     \u001b[0mconnector\u001b[0m \u001b[0;34m=\u001b[0m \u001b[0mGbqConnector\u001b[0m\u001b[0;34m(\u001b[0m\u001b[0mproject_id\u001b[0m\u001b[0;34m,\u001b[0m \u001b[0mreauth\u001b[0m\u001b[0;34m=\u001b[0m\u001b[0mreauth\u001b[0m\u001b[0;34m)\u001b[0m\u001b[0;34m\u001b[0m\u001b[0m\n\u001b[0;32m--> 428\u001b[0;31m     \u001b[0mschema\u001b[0m\u001b[0;34m,\u001b[0m \u001b[0mpages\u001b[0m \u001b[0;34m=\u001b[0m \u001b[0mconnector\u001b[0m\u001b[0;34m.\u001b[0m\u001b[0mrun_query\u001b[0m\u001b[0;34m(\u001b[0m\u001b[0mquery\u001b[0m\u001b[0;34m,\u001b[0m \u001b[0mverbose\u001b[0m\u001b[0;34m=\u001b[0m\u001b[0mverbose\u001b[0m\u001b[0;34m)\u001b[0m\u001b[0;34m\u001b[0m\u001b[0m\n\u001b[0m\u001b[1;32m    429\u001b[0m     \u001b[0mdataframe_list\u001b[0m \u001b[0;34m=\u001b[0m \u001b[0;34m[\u001b[0m\u001b[0;34m]\u001b[0m\u001b[0;34m\u001b[0m\u001b[0m\n\u001b[1;32m    430\u001b[0m     \u001b[0;32mwhile\u001b[0m \u001b[0mlen\u001b[0m\u001b[0;34m(\u001b[0m\u001b[0mpages\u001b[0m\u001b[0;34m)\u001b[0m \u001b[0;34m>\u001b[0m \u001b[0;36m0\u001b[0m\u001b[0;34m:\u001b[0m\u001b[0;34m\u001b[0m\u001b[0m\n",
      "\u001b[0;32m/Users/Jonathan/anaconda2/lib/python2.7/site-packages/pandas/io/gbq.pyc\u001b[0m in \u001b[0;36mrun_query\u001b[0;34m(self, query, verbose)\u001b[0m\n\u001b[1;32m    230\u001b[0m                                                              jobId=job_reference['jobId']).execute()\n\u001b[1;32m    231\u001b[0m             \u001b[0;32mexcept\u001b[0m \u001b[0mHttpError\u001b[0m \u001b[0;32mas\u001b[0m \u001b[0mex\u001b[0m\u001b[0;34m:\u001b[0m\u001b[0;34m\u001b[0m\u001b[0m\n\u001b[0;32m--> 232\u001b[0;31m                 \u001b[0mself\u001b[0m\u001b[0;34m.\u001b[0m\u001b[0mprocess_http_error\u001b[0m\u001b[0;34m(\u001b[0m\u001b[0mex\u001b[0m\u001b[0;34m)\u001b[0m\u001b[0;34m\u001b[0m\u001b[0m\n\u001b[0m\u001b[1;32m    233\u001b[0m \u001b[0;34m\u001b[0m\u001b[0m\n\u001b[1;32m    234\u001b[0m         \u001b[0mtotal_rows\u001b[0m \u001b[0;34m=\u001b[0m \u001b[0mint\u001b[0m\u001b[0;34m(\u001b[0m\u001b[0mquery_reply\u001b[0m\u001b[0;34m[\u001b[0m\u001b[0;34m'totalRows'\u001b[0m\u001b[0;34m]\u001b[0m\u001b[0;34m)\u001b[0m\u001b[0;34m\u001b[0m\u001b[0m\n",
      "\u001b[0;32m/Users/Jonathan/anaconda2/lib/python2.7/site-packages/pandas/io/gbq.pyc\u001b[0m in \u001b[0;36mprocess_http_error\u001b[0;34m(ex)\u001b[0m\n\u001b[1;32m    174\u001b[0m                 \u001b[0mmessage\u001b[0m \u001b[0;34m=\u001b[0m \u001b[0merror\u001b[0m\u001b[0;34m[\u001b[0m\u001b[0;34m'message'\u001b[0m\u001b[0;34m]\u001b[0m\u001b[0;34m\u001b[0m\u001b[0m\n\u001b[1;32m    175\u001b[0m \u001b[0;34m\u001b[0m\u001b[0m\n\u001b[0;32m--> 176\u001b[0;31m                 \u001b[0;32mraise\u001b[0m \u001b[0mGenericGBQException\u001b[0m\u001b[0;34m(\u001b[0m\u001b[0;34m\"Reason: {0}, Message: {1}\"\u001b[0m\u001b[0;34m.\u001b[0m\u001b[0mformat\u001b[0m\u001b[0;34m(\u001b[0m\u001b[0mreason\u001b[0m\u001b[0;34m,\u001b[0m \u001b[0mmessage\u001b[0m\u001b[0;34m)\u001b[0m\u001b[0;34m)\u001b[0m\u001b[0;34m\u001b[0m\u001b[0m\n\u001b[0m\u001b[1;32m    177\u001b[0m \u001b[0;34m\u001b[0m\u001b[0m\n\u001b[1;32m    178\u001b[0m         \u001b[0;32mraise\u001b[0m \u001b[0mGenericGBQException\u001b[0m\u001b[0;34m(\u001b[0m\u001b[0merrors\u001b[0m\u001b[0;34m)\u001b[0m\u001b[0;34m\u001b[0m\u001b[0m\n",
      "\u001b[0;31mGenericGBQException\u001b[0m: Reason: invalidQuery, Message: BETWEEN arguments must have comparable types."
     ]
    }
   ],
   "source": [
    "import pandas as pd\n",
    "import httplib\n",
    "\n",
    "df=pd.io.gbq.read_gbq(\"\"\"  \n",
    "    SELECT ROUND(pickup_latitude, 4) as lat, ROUND(pickup_longitude, 4) as long, COUNT(*) as num_pickups  \n",
    "    FROM [imjasonh-storage:nyctaxi.trip_data]  \n",
    "    WHERE (pickup_latitude BETWEEN 40.61 AND 40.91) AND (pickup_longitude BETWEEN -74.06 AND -73.77)  \n",
    "    GROUP BY lat, long \"\"\", project_id='nyc-taxi-data-1217')"
   ]
  },
  {
   "cell_type": "code",
   "execution_count": null,
   "metadata": {
    "collapsed": false
   },
   "outputs": [
    {
     "name": "stdout",
     "output_type": "stream",
     "text": [
      "Waiting for job to complete...\n",
      "Waiting for job to complete...\n",
      "Waiting for job to complete...\n",
      "Waiting for job to complete...\n",
      "Waiting for job to complete...\n",
      "Waiting for job to complete...\n",
      "Waiting for job to complete...\n",
      "Waiting for job to complete..."
     ]
    }
   ],
   "source": [
    "import pandas as pd\n",
    "import httplib\n",
    "\n",
    "df=pd.io.gbq.read_gbq(\"\"\"  \n",
    "    SELECT 0.00001 percent  \n",
    "    FROM [imjasonh-storage:nyctaxi.trip_data]\"\"\", project_id='nyc-taxi-data-1217')"
   ]
  },
  {
   "cell_type": "code",
   "execution_count": null,
   "metadata": {
    "collapsed": false
   },
   "outputs": [],
   "source": [
    "df"
   ]
  },
  {
   "cell_type": "code",
   "execution_count": null,
   "metadata": {
    "collapsed": true
   },
   "outputs": [],
   "source": [
    "# Work just with June 2015 for now\n",
    "\n",
    "link = 'https://storage.googleapis.com/tlc-trip-data/2015/yellow_tripdata_2015-06.csv'\n",
    "\n",
    "#months = [(\"%02d\" % i) for i in range(1,13)]\n",
    "df = []\n",
    "for i in months[:8]:\n",
    "    file = \"2014-\" +i +\" - Citi Bike trip data.csv\"\n",
    "    print file    \n",
    "    monthlyTripData = pd.read_csv(\"\".join(['data/',file]))\n",
    "    dfs2014.append(monthlyTripData)\n",
    "for i in months[8:13]:\n",
    "    file = \"2014\" +i +\"-citibike-tripdata.csv\"\n",
    "    print file    \n",
    "    monthlyTripData = pd.read_csv(\"\".join(['data/',file]))\n",
    "    dfs2014.append(monthlyTripData)"
   ]
  }
 ],
 "metadata": {
  "kernelspec": {
   "display_name": "Python 2",
   "language": "python",
   "name": "python2"
  },
  "language_info": {
   "codemirror_mode": {
    "name": "ipython",
    "version": 2
   },
   "file_extension": ".py",
   "mimetype": "text/x-python",
   "name": "python",
   "nbconvert_exporter": "python",
   "pygments_lexer": "ipython2",
   "version": "2.7.11"
  }
 },
 "nbformat": 4,
 "nbformat_minor": 0
}
